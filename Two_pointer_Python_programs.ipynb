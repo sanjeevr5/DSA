{
  "nbformat": 4,
  "nbformat_minor": 0,
  "metadata": {
    "colab": {
      "provenance": [],
      "authorship_tag": "ABX9TyNBqVzOdXXQps4rqrVQoFpn",
      "include_colab_link": true
    },
    "kernelspec": {
      "name": "python3",
      "display_name": "Python 3"
    },
    "language_info": {
      "name": "python"
    }
  },
  "cells": [
    {
      "cell_type": "markdown",
      "metadata": {
        "id": "view-in-github",
        "colab_type": "text"
      },
      "source": [
        "<a href=\"https://colab.research.google.com/github/sanjeevr5/DSA/blob/main/Two_pointer_Python_programs.ipynb\" target=\"_parent\"><img src=\"https://colab.research.google.com/assets/colab-badge.svg\" alt=\"Open In Colab\"/></a>"
      ]
    },
    {
      "cell_type": "markdown",
      "source": [
        "# Palindrome"
      ],
      "metadata": {
        "id": "5Khu3Fv3pHy3"
      }
    },
    {
      "cell_type": "code",
      "source": [
        "def is_palindrome(s):\n",
        "  leng: int = len(s)\n",
        "  l: int = 0\n",
        "  r: int = leng - 1\n",
        "  while l <= r:\n",
        "    while l <= r and not s[l].isalnum():\n",
        "      l += 1\n",
        "    while l <= r and not s[r].isalnum():\n",
        "      r -= 1\n",
        "    if l <= r and s[l].lower() != s[r].lower():\n",
        "      return False\n",
        "    l += 1\n",
        "    r -= 1\n",
        "  return True\n",
        "\n",
        "assert is_palindrome(\"@#$%^&*\") is True\n",
        "assert is_palindrome(\"kaYak\") is True\n",
        "assert is_palindrome(\"RaCEACAR\") is False"
      ],
      "metadata": {
        "id": "kwGtxoRwpQzw"
      },
      "execution_count": null,
      "outputs": []
    },
    {
      "cell_type": "markdown",
      "source": [
        "# 3 sum 0"
      ],
      "metadata": {
        "id": "NJTcYtlSqUKP"
      }
    },
    {
      "cell_type": "code",
      "source": [
        "def three_sum(nums):\n",
        "  nums.sort()\n",
        "  leng: int = len(nums)\n",
        "  output: list[list[int]] = []\n",
        "  for index in range(leng):\n",
        "    if index > 0 and nums[index - 1] == nums[index]:\n",
        "      continue\n",
        "    l: int = index + 1\n",
        "    r: int = leng - 1\n",
        "    while l < r:\n",
        "      if (tot:= nums[index] + nums[l] + nums[r]) == 0:\n",
        "        output.append([nums[index], nums[l], nums[r]])\n",
        "        l += 1\n",
        "        r -= 1\n",
        "        while l < r and nums[l - 1] == nums[l]:\n",
        "          l += 1\n",
        "        while l < r and nums[r + 1] == nums[r]:\n",
        "          r -= 1\n",
        "      elif tot < 0:\n",
        "        l += 1\n",
        "      else:\n",
        "        r -= 1\n",
        "  return output\n",
        "\n",
        "assert three_sum([-1,0,1,2,-1,-4]) == [[-1,-1,2],[-1,0,1]]\n",
        "assert three_sum([1,2,3,4,5]) == []"
      ],
      "metadata": {
        "id": "cr_HeckIqQPx"
      },
      "execution_count": null,
      "outputs": []
    },
    {
      "cell_type": "markdown",
      "source": [
        "# Dutch sort"
      ],
      "metadata": {
        "id": "HclXQZs6rmc2"
      }
    },
    {
      "cell_type": "code",
      "source": [
        "def sort_colors(colors, pivot = 1):\n",
        "  l: int = 0\n",
        "  m: int = 0\n",
        "  r: int = len(colors) - 1\n",
        "  while m <= r:\n",
        "    if colors[m] < pivot:\n",
        "      colors[l], colors[m] = colors[m], colors[l]\n",
        "      l += 1\n",
        "      m += 1\n",
        "    elif colors[m] == pivot:\n",
        "      m += 1\n",
        "    else:\n",
        "      colors[m], colors[r] = colors[r], colors[m]\n",
        "      r -= 1\n",
        "  return colors\n",
        "\n",
        "assert sort_colors([0,1,0]) == [0,0,1]\n",
        "assert sort_colors([0,1,0,1]) == [0,0,1,1]"
      ],
      "metadata": {
        "id": "JH1TiuqErl1d"
      },
      "execution_count": null,
      "outputs": []
    },
    {
      "cell_type": "markdown",
      "source": [
        "# Reverse words in a string"
      ],
      "metadata": {
        "id": "0z9vVAVatMe9"
      }
    },
    {
      "cell_type": "code",
      "source": [
        "def reverse_words(sentence):\n",
        "  sentence: list[str] = list(sentence)[::-1]\n",
        "  l: int = 0\n",
        "  r: int = 0\n",
        "  leng: int = len(sentence)\n",
        "  while r < leng:\n",
        "    while r < leng and sentence[r] == ' ':\n",
        "      sentence.pop(r)\n",
        "      leng -= 1\n",
        "    while r < leng and sentence[r] != ' ':\n",
        "      r += 1\n",
        "    sentence[l:r] = sentence[l:r][::-1]\n",
        "    r += 1\n",
        "    while r < leng and sentence[r - 1] == sentence[r]:\n",
        "      sentence.pop(r)\n",
        "      leng -= 1\n",
        "    l = r\n",
        "  return ''.join(sentence if sentence[-1] != ' ' else sentence[:-1])\n",
        "\n",
        "\n",
        "assert reverse_words(\"We love Python \") == \"Python love We\"\n"
      ],
      "metadata": {
        "id": "qUpV6v8utJZk"
      },
      "execution_count": null,
      "outputs": []
    },
    {
      "cell_type": "markdown",
      "source": [
        "# Valid word abbreviation"
      ],
      "metadata": {
        "id": "PnJJxn0DxRmD"
      }
    },
    {
      "cell_type": "code",
      "source": [
        "def valid_word_abbreviation(word, abbr):\n",
        "  word_idx: int = 0\n",
        "  word_leng: int = len(word)\n",
        "  abbr_idx: int = 0\n",
        "  abbr_leng: int = len(abbr)\n",
        "  while abbr_idx < abbr_leng:\n",
        "    if abbr_idx < abbr_leng and abbr[abbr_idx].isnumeric():\n",
        "      if abbr[abbr_idx] == '0':\n",
        "        return False\n",
        "      num: str = ''\n",
        "      while abbr_idx < abbr_leng and abbr[abbr_idx].isnumeric():\n",
        "        num += abbr[abbr_idx]\n",
        "        abbr_idx += 1\n",
        "      num: int = int(num)\n",
        "      word_idx += num\n",
        "    else:\n",
        "      if word_idx > word_leng or word[word_idx] != abbr[abbr_idx]:\n",
        "        return False\n",
        "      word_idx += 1\n",
        "      abbr_idx += 1\n",
        "  return True if word_idx == word_leng and abbr_idx == abbr_leng else False\n",
        "\n",
        "assert valid_word_abbreviation(\"kkusiyrkmr\", \"10\") is True\n",
        "assert valid_word_abbreviation(\"internationalization\", \"13iz4n\") is True"
      ],
      "metadata": {
        "id": "29FHoodavj_R"
      },
      "execution_count": null,
      "outputs": []
    },
    {
      "cell_type": "markdown",
      "source": [
        "# Strobogrammatic Number"
      ],
      "metadata": {
        "id": "0yFiB-YmrSiZ"
      }
    },
    {
      "cell_type": "code",
      "source": [
        "def is_strobogrammatic(num):\n",
        "  ref_dict: dict[str, str] = {\n",
        "      '0' : '0',\n",
        "      '1' : '1',\n",
        "      '8' : '8',\n",
        "      '6' : '9',\n",
        "      '9' : '6'\n",
        "  }\n",
        "  num: str = str(num)\n",
        "  l: int = 0\n",
        "  r: int = len(num) - 1\n",
        "  while l <= r:\n",
        "    if num[l] not in ref_dict or num[r] not in ref_dict or ref_dict[num[l]] != num[r]:\n",
        "      return False\n",
        "    l += 1\n",
        "    r -= 1\n",
        "  return True\n",
        "\n",
        "assert is_strobogrammatic('619') is True\n",
        "assert is_strobogrammatic('2') is False"
      ],
      "metadata": {
        "id": "w6Etzv3R1pU0"
      },
      "execution_count": null,
      "outputs": []
    },
    {
      "cell_type": "markdown",
      "source": [
        "# Minimum moves to make a palindrome"
      ],
      "metadata": {
        "id": "hAXL7FX7sm6-"
      }
    },
    {
      "cell_type": "code",
      "source": [
        "def min_moves_to_make_palindrome(s):\n",
        "  l: int = 0\n",
        "  r: int = len(s) - 1\n",
        "  moves: int = 0\n",
        "  s: list[str] = list(s)\n",
        "  while l <= r:\n",
        "    trav: int = r\n",
        "    while l < trav:\n",
        "      if s[l] == s[trav]:\n",
        "        for index in range(trav, r):\n",
        "          s[index], s[index + 1] = s[index + 1], s[index]\n",
        "          moves += 1\n",
        "        r -= 1\n",
        "        break\n",
        "      trav -= 1\n",
        "    if trav == l:\n",
        "      moves += (len(s) // 2) - l # The effort to move the character to the mid of the string for sequences like abcba where c has to be pushed to the middle.\n",
        "    l += 1\n",
        "  return moves\n",
        "\n",
        "assert min_moves_to_make_palindrome(\"ccxx\") == 2\n",
        "assert min_moves_to_make_palindrome(\"x\") == 0"
      ],
      "metadata": {
        "id": "ma0UvRUgshvc"
      },
      "execution_count": null,
      "outputs": []
    },
    {
      "cell_type": "markdown",
      "source": [
        "# Count pairs which are less than the target sum"
      ],
      "metadata": {
        "id": "qhug6yae1IZG"
      }
    },
    {
      "cell_type": "code",
      "source": [
        "def count_pairs(nums, target):\n",
        "  nums.sort()\n",
        "  count: int = 0\n",
        "  l: int = 0\n",
        "  r: int = len(nums) - 1\n",
        "  while l <= r:\n",
        "    if (tot:= nums[l] + nums[r]) < target:\n",
        "      count += r - l\n",
        "      for index in range(l + 1, r + 1):\n",
        "        print(nums[l], nums[index])\n",
        "      l += 1\n",
        "    else:\n",
        "      r -= 1\n",
        "  return count\n",
        "\n",
        "assert count_pairs([1,3,2,4,5], 6) == 4"
      ],
      "metadata": {
        "colab": {
          "base_uri": "https://localhost:8080/"
        },
        "id": "iTGeggwpz52Y",
        "outputId": "d11084db-c97f-4a2f-e367-1f6f171aeef8"
      },
      "execution_count": null,
      "outputs": [
        {
          "output_type": "stream",
          "name": "stdout",
          "text": [
            "1 2\n",
            "1 3\n",
            "1 4\n",
            "2 3\n"
          ]
        }
      ]
    },
    {
      "cell_type": "markdown",
      "source": [
        "# Valid palindrome with atmost 1 change"
      ],
      "metadata": {
        "id": "L-13kAEPJB5V"
      }
    },
    {
      "cell_type": "code",
      "source": [
        "def is_palindrome(string):\n",
        "  l: int = 0\n",
        "  r: int = len(string) - 1\n",
        "  while l < r:\n",
        "    if string[l] != string[r]:\n",
        "      return string[l:r] == string[l:r][::-1] or string[l+1:r+1] == string[l+1:r+1][::-1]\n",
        "    l += 1\n",
        "    r -= 1\n",
        "  return True\n",
        "\n",
        "assert is_palindrome(\"madame\") is True\n",
        "assert is_palindrome(\"dead\") is True"
      ],
      "metadata": {
        "id": "zDuOBSC51yxz"
      },
      "execution_count": null,
      "outputs": []
    },
    {
      "cell_type": "markdown",
      "source": [
        "# Sort a binary array"
      ],
      "metadata": {
        "id": "8vDZD-UTK17W"
      }
    },
    {
      "cell_type": "code",
      "source": [
        "def sort_binary_arr(arr):\n",
        "  l: int = 0\n",
        "  r: int = len(arr) - 1\n",
        "  while l < r:\n",
        "    if arr[l] == 1:\n",
        "      arr[l], arr[r] = arr[r], arr[l]\n",
        "      r -= 1\n",
        "    else:\n",
        "      l += 1\n",
        "  return arr\n",
        "\n",
        "assert sort_binary_arr([0,1,0,1,0,0,1]) == [0,0,0,0,1,1,1]\n",
        "assert sort_binary_arr([0,1,0]) == [0,0,1]"
      ],
      "metadata": {
        "id": "zF87C3FLKGgS"
      },
      "execution_count": null,
      "outputs": []
    },
    {
      "cell_type": "markdown",
      "source": [
        "# Happy number"
      ],
      "metadata": {
        "id": "hvCaDofbXIi_"
      }
    },
    {
      "cell_type": "code",
      "source": [
        "def is_happy_number(n):\n",
        "  def _square(num):\n",
        "    tot: int = 0\n",
        "    while num:\n",
        "        tot += (num % 10) ** 2\n",
        "        num //= 10\n",
        "    return tot\n",
        "  slow = n\n",
        "  fast = _square(n)\n",
        "  while fast != 1 and fast != slow:\n",
        "      slow = _square(slow)\n",
        "      fast = _square(_square(fast))\n",
        "  if fast == 1:\n",
        "      return True\n",
        "  return False\n",
        "\n",
        "assert is_happy_number(2147483646) is False"
      ],
      "metadata": {
        "id": "_xyjq2jDLfRE"
      },
      "execution_count": 1,
      "outputs": []
    },
    {
      "cell_type": "code",
      "source": [],
      "metadata": {
        "id": "LYO0LPeNZgBY"
      },
      "execution_count": null,
      "outputs": []
    }
  ]
}