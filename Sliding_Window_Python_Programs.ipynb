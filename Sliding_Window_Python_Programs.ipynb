{
  "nbformat": 4,
  "nbformat_minor": 0,
  "metadata": {
    "colab": {
      "provenance": [],
      "authorship_tag": "ABX9TyMqKi/2f3OuM857xBBikWv7",
      "include_colab_link": true
    },
    "kernelspec": {
      "name": "python3",
      "display_name": "Python 3"
    },
    "language_info": {
      "name": "python"
    }
  },
  "cells": [
    {
      "cell_type": "markdown",
      "metadata": {
        "id": "view-in-github",
        "colab_type": "text"
      },
      "source": [
        "<a href=\"https://colab.research.google.com/github/sanjeevr5/DSA/blob/main/Sliding_Window_Python_Programs.ipynb\" target=\"_parent\"><img src=\"https://colab.research.google.com/assets/colab-badge.svg\" alt=\"Open In Colab\"/></a>"
      ]
    },
    {
      "cell_type": "markdown",
      "source": [
        "# Repeating DNA sequences"
      ],
      "metadata": {
        "id": "PkRW33ymJv72"
      }
    },
    {
      "cell_type": "code",
      "execution_count": null,
      "metadata": {
        "id": "KQhErAdIJc2E"
      },
      "outputs": [],
      "source": [
        "def findRepeatedDnaSequences(s):\n",
        "  from collections import Counter\n",
        "  window: int = 10\n",
        "  seen: Counter = Counter()\n",
        "  output: list[str] = []\n",
        "  for index in range(0, len(s)):\n",
        "    curr: str = s[index:index+window]\n",
        "    seen[curr] += 1\n",
        "    if seen[curr] > 1 and curr not in output:\n",
        "      output.append(curr)\n",
        "  return output\n",
        "\n",
        "assert findRepeatedDnaSequences(\"AAAAACCCCCAAAAACCCCCCAAAAAGGGTTT\") == [\"AAAAACCCCC\",\"CCCCCAAAAA\"]"
      ]
    },
    {
      "cell_type": "markdown",
      "source": [
        "# Sliding window maximum"
      ],
      "metadata": {
        "id": "8jHjsseRpIUv"
      }
    },
    {
      "cell_type": "code",
      "source": [
        "def find_max_sliding_window(nums, w):\n",
        "  from collections import deque\n",
        "  outputs: list[int] = []\n",
        "  queue: list[int] = deque()\n",
        "  for index, value in enumerate(nums):\n",
        "    if queue and queue[0] < index + 1 - w:\n",
        "      queue.popleft()\n",
        "    while queue and value >= nums[queue[-1]]:\n",
        "      queue.pop()\n",
        "    queue.append(index)\n",
        "    if index + 1 >= w:\n",
        "      outputs.append(nums[queue[0]])\n",
        "  return outputs\n",
        "\n",
        "assert find_max_sliding_window([10,6,9,-3,23,-1,34,56,67,-1,-4,-8,-2,9,10,34,67], 3) ==\n",
        "[10,9,23,23,34,56,67,67,67,-1,-2,9,10,34,67]"
      ],
      "metadata": {
        "id": "NW_FxaQPpO5G"
      },
      "execution_count": null,
      "outputs": []
    }
  ]
}