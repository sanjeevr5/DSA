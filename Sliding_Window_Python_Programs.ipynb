{
  "nbformat": 4,
  "nbformat_minor": 0,
  "metadata": {
    "colab": {
      "provenance": [],
      "authorship_tag": "ABX9TyMwrfQq2ooaaDekUBXpZ6KA",
      "include_colab_link": true
    },
    "kernelspec": {
      "name": "python3",
      "display_name": "Python 3"
    },
    "language_info": {
      "name": "python"
    }
  },
  "cells": [
    {
      "cell_type": "markdown",
      "metadata": {
        "id": "view-in-github",
        "colab_type": "text"
      },
      "source": [
        "<a href=\"https://colab.research.google.com/github/sanjeevr5/DSA/blob/main/Sliding_Window_Python_Programs.ipynb\" target=\"_parent\"><img src=\"https://colab.research.google.com/assets/colab-badge.svg\" alt=\"Open In Colab\"/></a>"
      ]
    },
    {
      "cell_type": "markdown",
      "source": [
        "# Repeating DNA sequences"
      ],
      "metadata": {
        "id": "PkRW33ymJv72"
      }
    },
    {
      "cell_type": "code",
      "execution_count": null,
      "metadata": {
        "id": "KQhErAdIJc2E"
      },
      "outputs": [],
      "source": [
        "def findRepeatedDnaSequences(s):\n",
        "  from collections import Counter\n",
        "  window: int = 10\n",
        "  seen: Counter = Counter()\n",
        "  output: list[str] = []\n",
        "  for index in range(0, len(s)):\n",
        "    curr: str = s[index:index+window]\n",
        "    seen[curr] += 1\n",
        "    if seen[curr] > 1 and curr not in output:\n",
        "      output.append(curr)\n",
        "  return output\n",
        "\n",
        "assert findRepeatedDnaSequences(\"AAAAACCCCCAAAAACCCCCCAAAAAGGGTTT\") == [\"AAAAACCCCC\",\"CCCCCAAAAA\"]"
      ]
    },
    {
      "cell_type": "markdown",
      "source": [
        "# Sliding window maximum"
      ],
      "metadata": {
        "id": "8jHjsseRpIUv"
      }
    },
    {
      "cell_type": "code",
      "source": [
        "def find_max_sliding_window(nums, w):\n",
        "  from collections import deque\n",
        "  outputs: list[int] = []\n",
        "  queue: list[int] = deque()\n",
        "  for index, value in enumerate(nums):\n",
        "    if queue and queue[0] < index + 1 - w:\n",
        "      queue.popleft()\n",
        "    while queue and value >= nums[queue[-1]]:\n",
        "      queue.pop()\n",
        "    queue.append(index)\n",
        "    if index + 1 >= w:\n",
        "      outputs.append(nums[queue[0]])\n",
        "  return outputs\n",
        "\n",
        "assert find_max_sliding_window([10,6,9,-3,23,-1,34,56,67,-1,-4,-8,-2,9,10,34,67], 3) ==\n",
        "[10,9,23,23,34,56,67,67,67,-1,-2,9,10,34,67]"
      ],
      "metadata": {
        "id": "NW_FxaQPpO5G"
      },
      "execution_count": null,
      "outputs": []
    },
    {
      "cell_type": "markdown",
      "source": [
        "# Longest repeating character replacement"
      ],
      "metadata": {
        "id": "kqir4CpL8lUA"
      }
    },
    {
      "cell_type": "code",
      "source": [
        "def longest_repeating_character_replacement(s, k):\n",
        "  l: int = 0\n",
        "  counter: dict[str, int] = {}\n",
        "  max_counter_frequency: int = 0\n",
        "  result: int = 0\n",
        "  for r in range(len(s)):\n",
        "    counter[s[r]] = counter.get(s[r], 0) + 1\n",
        "    max_counter_frequency = max(max_counter_frequency, counter[s[r]])\n",
        "\n",
        "    while (r - l + 1) - max_counter_frequency > k:\n",
        "      counter[s[l]] -= 1\n",
        "      l += 1\n",
        "\n",
        "    result = max(result, r - l + 1)\n",
        "  return result\n",
        "\n",
        "assert longest_repeating_character_replacement('aaacbbbaabab', 2) == 6"
      ],
      "metadata": {
        "id": "5V5xzb7B8qWX"
      },
      "execution_count": null,
      "outputs": []
    },
    {
      "cell_type": "markdown",
      "source": [
        "# Longest substring without repeating characters"
      ],
      "metadata": {
        "id": "r9q8f7Oo-rsm"
      }
    },
    {
      "cell_type": "code",
      "source": [
        "def find_longest_substring(input_str):\n",
        "  l: int = 0\n",
        "  res: int = 0\n",
        "  seen: set[int] = set()\n",
        "  for r in range(len(input_str)):\n",
        "    while input_str[r] in seen:\n",
        "      seen.remove(input_str[l])\n",
        "      l += 1\n",
        "    seen.add(input_str[r])\n",
        "    res = max(res, r - l + 1)\n",
        "  return res\n",
        "\n",
        "assert find_longest_substring(\"abcdbea\") == 5"
      ],
      "metadata": {
        "id": "VBQe8JkB-zF9"
      },
      "execution_count": null,
      "outputs": []
    },
    {
      "cell_type": "markdown",
      "source": [
        "# Minimum size subarray sum"
      ],
      "metadata": {
        "id": "EzHzWaw778_R"
      }
    },
    {
      "cell_type": "code",
      "source": [
        "def min_sub_array_len(target, nums):\n",
        "  l: int = 0\n",
        "  res: int = float('inf')\n",
        "  curr_sum: int = 0\n",
        "  for r in range(len(nums)):\n",
        "    curr_sum += nums[r]\n",
        "    while curr_sum >= target:\n",
        "      res = min(res, r - l + 1)\n",
        "      curr_sum -= nums[l]\n",
        "      l += 1\n",
        "  return 0 if res == float('inf') else res\n",
        "\n",
        "assert min_sub_array_len(7, [2,3,1,2,4,3]) == 2"
      ],
      "metadata": {
        "id": "0JQ9aSnw8CmI"
      },
      "execution_count": 2,
      "outputs": []
    }
  ]
}