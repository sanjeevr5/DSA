{
  "nbformat": 4,
  "nbformat_minor": 0,
  "metadata": {
    "colab": {
      "provenance": [],
      "authorship_tag": "ABX9TyOvvXMWLKK3/siaFnyAzfUl",
      "include_colab_link": true
    },
    "kernelspec": {
      "name": "python3",
      "display_name": "Python 3"
    },
    "language_info": {
      "name": "python"
    }
  },
  "cells": [
    {
      "cell_type": "markdown",
      "metadata": {
        "id": "view-in-github",
        "colab_type": "text"
      },
      "source": [
        "<a href=\"https://colab.research.google.com/github/sanjeevr5/DSA/blob/main/Sliding_Window_Python_Programs.ipynb\" target=\"_parent\"><img src=\"https://colab.research.google.com/assets/colab-badge.svg\" alt=\"Open In Colab\"/></a>"
      ]
    },
    {
      "cell_type": "markdown",
      "source": [
        "# Repeating DNA sequences"
      ],
      "metadata": {
        "id": "PkRW33ymJv72"
      }
    },
    {
      "cell_type": "code",
      "execution_count": null,
      "metadata": {
        "id": "KQhErAdIJc2E"
      },
      "outputs": [],
      "source": [
        "def findRepeatedDnaSequences(s):\n",
        "  from collections import Counter\n",
        "  window: int = 10\n",
        "  seen: Counter = Counter()\n",
        "  output: list[str] = []\n",
        "  for index in range(0, len(s)):\n",
        "    curr: str = s[index:index+window]\n",
        "    seen[curr] += 1\n",
        "    if seen[curr] > 1 and curr not in output:\n",
        "      output.append(curr)\n",
        "  return output\n",
        "\n",
        "assert findRepeatedDnaSequences(\"AAAAACCCCCAAAAACCCCCCAAAAAGGGTTT\") == [\"AAAAACCCCC\",\"CCCCCAAAAA\"]"
      ]
    }
  ]
}